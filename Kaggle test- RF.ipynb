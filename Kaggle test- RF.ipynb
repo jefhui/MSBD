{
 "cells": [
  {
   "cell_type": "markdown",
   "metadata": {},
   "source": [
    "# Import data and libraries"
   ]
  },
  {
   "cell_type": "code",
   "execution_count": 2,
   "metadata": {},
   "outputs": [],
   "source": [
    "import pandas as pd\n",
    "import numpy as np\n",
    "from sklearn import linear_model\n",
    "from sklearn.model_selection import train_test_split\n",
    "from sklearn.metrics import mean_squared_error\n",
    "from sklearn import preprocessing\n",
    "from sklearn.preprocessing import StandardScaler\n",
    "scaler = StandardScaler()\n",
    "from sklearn.linear_model import SGDClassifier\n",
    "from sklearn.ensemble import RandomForestRegressor\n",
    "from sklearn.datasets import make_regression\n",
    "import matplotlib.pyplot as plt\n",
    "\n",
    "from datetime import date\n",
    "from datetime import datetime\n"
   ]
  },
  {
   "cell_type": "code",
   "execution_count": 3,
   "metadata": {},
   "outputs": [],
   "source": [
    "data = pd.read_csv('data/train.csv')\n",
    "test_data = pd.read_csv('data/test.csv')"
   ]
  },
  {
   "cell_type": "code",
   "execution_count": 4,
   "metadata": {},
   "outputs": [],
   "source": [
    "df = pd.DataFrame(data['id'])\n",
    "df_test = pd.DataFrame(test_data['id'])\n",
    "final_data = pd.DataFrame(test_data['id'])\n"
   ]
  },
  {
   "cell_type": "markdown",
   "metadata": {},
   "source": [
    "# Add holiday"
   ]
  },
  {
   "cell_type": "code",
   "execution_count": 5,
   "metadata": {},
   "outputs": [],
   "source": [
    "holiday = ['02/01/2017','28/01/2017','30/01/2017','04/04/2017','14/04/2017',\n",
    "           '15/04/2017', '17/04/2017', '01/05/2017', '03/05/2017', '30/05/2017',\n",
    "           '01/07/2017', '02/10/2017', '05/10/2017', '28/10/2017', '25/12/2017',\n",
    "           '26/12/2017','01/01/2018','16/02/2018','17/02/2018','19/02/2018','30/03/2018',\n",
    "           '31/03/2018', '02/04/2018', '05/04/2018', '01/05/2018', '22/05/2018',\n",
    "           '18/06/2018', '02/07/2018', '02/09/2018', '01/10/2018', '17/10/2018',\n",
    "           '25/12/2018', '26/12/2017']"
   ]
  },
  {
   "cell_type": "markdown",
   "metadata": {},
   "source": [
    "# Change training data format"
   ]
  },
  {
   "cell_type": "code",
   "execution_count": 6,
   "metadata": {},
   "outputs": [],
   "source": [
    "df['year'] = pd.to_datetime(data['date'], format='%d/%m/%Y %H:%M').dt.year\n",
    "df['month'] = pd.to_datetime(data['date'], format='%d/%m/%Y %H:%M').dt.month\n",
    "df['day'] = pd.to_datetime(data['date'], format='%d/%m/%Y %H:%M').dt.day\n",
    "df['hours'] = pd.to_datetime(data['date'], format='%d/%m/%Y %H:%M').dt.hour\n",
    "df['dayofweek'] = pd.to_datetime(data['date'], format='%d/%m/%Y %H:%M').dt.dayofweek\n",
    "holiday_list = [datetime.strptime(date, '%d/%m/%Y').date() for date in holiday]"
   ]
  },
  {
   "cell_type": "code",
   "execution_count": 7,
   "metadata": {},
   "outputs": [],
   "source": [
    "df['speed'] = data['speed']\n",
    "df['date'] = pd.to_datetime(data['date'], format='%d/%m/%Y %H:%M').dt.date"
   ]
  },
  {
   "cell_type": "markdown",
   "metadata": {},
   "source": [
    "# Data transformation"
   ]
  },
  {
   "cell_type": "code",
   "execution_count": 8,
   "metadata": {
    "scrolled": true
   },
   "outputs": [],
   "source": [
    "df['holiday'] = [1 if (x == True) else 0 for x in np.isin(pd.to_datetime(data['date'], format='%d/%m/%Y %H:%M').dt.date, holiday_list)]"
   ]
  },
  {
   "cell_type": "markdown",
   "metadata": {},
   "source": [
    "# Set regression variables"
   ]
  },
  {
   "cell_type": "code",
   "execution_count": 9,
   "metadata": {},
   "outputs": [],
   "source": [
    "X = df[['hours','dayofweek','month','day','holiday']]\n",
    "Y = df[['speed']]\n",
    "X_train, X_test, Y_train, Y_test = train_test_split(X, Y, test_size=0.2, random_state=42)"
   ]
  },
  {
   "cell_type": "markdown",
   "metadata": {},
   "source": [
    "# Regression"
   ]
  },
  {
   "cell_type": "code",
   "execution_count": 10,
   "metadata": {
    "scrolled": true
   },
   "outputs": [
    {
     "data": {
      "text/plain": [
       "RandomForestRegressor(random_state=0)"
      ]
     },
     "execution_count": 10,
     "metadata": {},
     "output_type": "execute_result"
    }
   ],
   "source": [
    "regr = RandomForestRegressor(random_state=0)\n",
    "regr.fit(X_train, Y_train['speed'])"
   ]
  },
  {
   "cell_type": "code",
   "execution_count": 11,
   "metadata": {
    "scrolled": true
   },
   "outputs": [],
   "source": [
    "result = regr.predict(X_test)"
   ]
  },
  {
   "cell_type": "markdown",
   "metadata": {},
   "source": [
    "# MSE "
   ]
  },
  {
   "cell_type": "code",
   "execution_count": 12,
   "metadata": {},
   "outputs": [
    {
     "data": {
      "text/plain": [
       "13.73502724031995"
      ]
     },
     "execution_count": 12,
     "metadata": {},
     "output_type": "execute_result"
    }
   ],
   "source": [
    "mean_squared_error(Y_test, result)"
   ]
  },
  {
   "cell_type": "markdown",
   "metadata": {},
   "source": [
    "# Change test data format"
   ]
  },
  {
   "cell_type": "code",
   "execution_count": 184,
   "metadata": {},
   "outputs": [],
   "source": [
    "df_test['year'] = pd.to_datetime(test_data['date'], format='%d/%m/%Y %H:%M').dt.year\n",
    "df_test['month'] = pd.to_datetime(test_data['date'], format='%d/%m/%Y %H:%M').dt.month\n",
    "df_test['day'] = pd.to_datetime(test_data['date'], format='%d/%m/%Y %H:%M').dt.day\n",
    "df_test['hours'] = pd.to_datetime(test_data['date'], format='%d/%m/%Y %H:%M').dt.hour\n",
    "df_test['dayofweek'] = pd.to_datetime(test_data['date'], format='%d/%m/%Y %H:%M').dt.dayofweek\n",
    "df_test['date'] = pd.to_datetime(test_data['date'], format='%d/%m/%Y %H:%M').dt.date\n",
    "df_test['holiday'] = [1 if (x == True) else 0 for x in np.isin(pd.to_datetime(test_data['date'], format='%d/%m/%Y %H:%M').dt.date, holiday_list)]"
   ]
  },
  {
   "cell_type": "markdown",
   "metadata": {},
   "source": [
    "# Regress using test data"
   ]
  },
  {
   "cell_type": "code",
   "execution_count": 185,
   "metadata": {},
   "outputs": [],
   "source": [
    "X = df_test[['hours','dayofweek','month','day','holiday']]\n",
    "result = regr.predict(X)"
   ]
  },
  {
   "cell_type": "markdown",
   "metadata": {},
   "source": [
    "# Export data"
   ]
  },
  {
   "cell_type": "code",
   "execution_count": 186,
   "metadata": {},
   "outputs": [],
   "source": [
    "final_data['speed'] = result"
   ]
  },
  {
   "cell_type": "code",
   "execution_count": 187,
   "metadata": {},
   "outputs": [],
   "source": [
    "final_data.to_csv(r'data/result.csv', index = False)"
   ]
  },
  {
   "cell_type": "code",
   "execution_count": 188,
   "metadata": {},
   "outputs": [
    {
     "data": {
      "text/html": [
       "<div>\n",
       "<style scoped>\n",
       "    .dataframe tbody tr th:only-of-type {\n",
       "        vertical-align: middle;\n",
       "    }\n",
       "\n",
       "    .dataframe tbody tr th {\n",
       "        vertical-align: top;\n",
       "    }\n",
       "\n",
       "    .dataframe thead th {\n",
       "        text-align: right;\n",
       "    }\n",
       "</style>\n",
       "<table border=\"1\" class=\"dataframe\">\n",
       "  <thead>\n",
       "    <tr style=\"text-align: right;\">\n",
       "      <th></th>\n",
       "      <th>id</th>\n",
       "      <th>speed</th>\n",
       "    </tr>\n",
       "  </thead>\n",
       "  <tbody>\n",
       "    <tr>\n",
       "      <th>0</th>\n",
       "      <td>0</td>\n",
       "      <td>46.850480</td>\n",
       "    </tr>\n",
       "    <tr>\n",
       "      <th>1</th>\n",
       "      <td>1</td>\n",
       "      <td>46.478504</td>\n",
       "    </tr>\n",
       "    <tr>\n",
       "      <th>2</th>\n",
       "      <td>2</td>\n",
       "      <td>28.555960</td>\n",
       "    </tr>\n",
       "    <tr>\n",
       "      <th>3</th>\n",
       "      <td>3</td>\n",
       "      <td>16.860034</td>\n",
       "    </tr>\n",
       "    <tr>\n",
       "      <th>4</th>\n",
       "      <td>4</td>\n",
       "      <td>26.014015</td>\n",
       "    </tr>\n",
       "  </tbody>\n",
       "</table>\n",
       "</div>"
      ],
      "text/plain": [
       "   id      speed\n",
       "0   0  46.850480\n",
       "1   1  46.478504\n",
       "2   2  28.555960\n",
       "3   3  16.860034\n",
       "4   4  26.014015"
      ]
     },
     "execution_count": 188,
     "metadata": {},
     "output_type": "execute_result"
    }
   ],
   "source": [
    "final_data.head()"
   ]
  }
 ],
 "metadata": {
  "kernelspec": {
   "display_name": "Python 3",
   "language": "python",
   "name": "python3"
  },
  "language_info": {
   "codemirror_mode": {
    "name": "ipython",
    "version": 3
   },
   "file_extension": ".py",
   "mimetype": "text/x-python",
   "name": "python",
   "nbconvert_exporter": "python",
   "pygments_lexer": "ipython3",
   "version": "3.8.3"
  }
 },
 "nbformat": 4,
 "nbformat_minor": 4
}
